{
 "cells": [
  {
   "cell_type": "code",
   "execution_count": 1,
   "metadata": {},
   "outputs": [],
   "source": [
    "# This Notebook loads a dataset from the data cube, and displays it as an RGB plot."
   ]
  },
  {
   "cell_type": "code",
   "execution_count": 2,
   "metadata": {},
   "outputs": [],
   "source": [
    "import datacube\n",
    "from datacube.storage.masking import mask_invalid_data\n",
    "\n",
    "dc = datacube.Datacube()"
   ]
  },
  {
   "cell_type": "code",
   "execution_count": 9,
   "metadata": {},
   "outputs": [],
   "source": [
    "# Declare some 'constants' for the program\n",
    "p = 'LC08_scene'\n",
    "start = '2013'\n",
    "end = '2014'\n",
    "fake_saturation = 400000\n",
    "res = (0.0025, -0.0025)\n",
    "m1 = 'red'\n",
    "m2 = 'green'\n",
    "m3 = 'blue'"
   ]
  },
  {
   "cell_type": "code",
   "execution_count": 10,
   "metadata": {},
   "outputs": [],
   "source": [
    "# Load data as an xarray.Dataset\n",
    "data = dc.load(product = p\n",
    "               , time = (start, end)\n",
    "               , measurements=[m1, m2, m3]\n",
    "               , resolution = res\n",
    "              )"
   ]
  },
  {
   "cell_type": "code",
   "execution_count": 11,
   "metadata": {},
   "outputs": [],
   "source": [
    "# Use the masking library to strip invalid data\n",
    "data = mask_invalid_data(data)"
   ]
  },
  {
   "cell_type": "code",
   "execution_count": 12,
   "metadata": {},
   "outputs": [],
   "source": [
    "# Isolate the color dimension in an xarray.DataArray, use transpose to make color the last dimension\n",
    "rgb = (data.to_array(dim='color'))\n",
    "rgb = rgb.transpose(*(rgb.dims[1:]+rgb.dims[:1])) \n",
    "\n",
    "# Mask out pixels where any band is 'saturated'\n",
    "rgb = rgb.where((rgb <= fake_saturation).all(dim='color'))\n",
    "# Scale to [0, 1] range for imshow\n",
    "rgb /= fake_saturation  "
   ]
  },
  {
   "cell_type": "code",
   "execution_count": 13,
   "metadata": {
    "scrolled": false
   },
   "outputs": [
    {
     "data": {
      "text/plain": [
       "<xarray.plot.facetgrid.FacetGrid at 0x7fac447187b8>"
      ]
     },
     "execution_count": 13,
     "metadata": {},
     "output_type": "execute_result"
    }
   ],
   "source": [
    "# Plot the results\n",
    "rgb.plot.imshow( x = data.crs.dimensions[1]\n",
    "                , y = data.crs.dimensions[0]\n",
    "                , col = 'time'\n",
    "                , col_wrap = 1\n",
    "                , size = 10\n",
    "                , add_colorbar = False\n",
    "               )"
   ]
  },
  {
   "cell_type": "code",
   "execution_count": null,
   "metadata": {},
   "outputs": [],
   "source": []
  }
 ],
 "metadata": {
  "kernelspec": {
   "display_name": "Python 3",
   "language": "python",
   "name": "python3"
  },
  "language_info": {
   "codemirror_mode": {
    "name": "ipython",
    "version": 3
   },
   "file_extension": ".py",
   "mimetype": "text/x-python",
   "name": "python",
   "nbconvert_exporter": "python",
   "pygments_lexer": "ipython3",
   "version": "3.6.5"
  }
 },
 "nbformat": 4,
 "nbformat_minor": 2
}
