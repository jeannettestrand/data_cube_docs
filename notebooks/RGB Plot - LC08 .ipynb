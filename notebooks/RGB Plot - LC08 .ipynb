{
 "cells": [
  {
   "cell_type": "code",
   "execution_count": null,
   "metadata": {},
   "outputs": [],
   "source": [
    "import datacube\n",
    "from datacube.storage.masking import mask_invalid_data\n",
    "from datacube.api.query import Query\n",
    "dc = datacube.Datacube()"
   ]
  },
  {
   "cell_type": "code",
   "execution_count": null,
   "metadata": {},
   "outputs": [],
   "source": [
    "# Get user input\n",
    "\n",
    "# Select a product\n",
    "p = 'LC08_scene'\n",
    "\n",
    "# Select band to red, green, or blue\n",
    "r = 6\n",
    "g = 5\n",
    "b = 4\n",
    "\n",
    "# Select available regions\n",
    "nwt = False            # example of burn \n",
    "vi = True             # example of coastal area\n",
    "ll = False             # example of surface mine \n",
    "\n",
    "\n",
    "\n",
    "# Select time start and end\n",
    "t1 = '2018-05-05'\n",
    "t2 = '2018-05-06'"
   ]
  },
  {
   "cell_type": "code",
   "execution_count": null,
   "metadata": {},
   "outputs": [],
   "source": [
    "# Prepare the DB query\n",
    "\n",
    "r, g, b = map(lambda x: x + 1,[r, g, b])\n",
    "\n",
    "if nwt :\n",
    "    lat = (62.3768, 63.3062)\n",
    "    lon = (-114.7038, -112.3989)\n",
    "elif vi :\n",
    "    lat = (47.9432, 49.4273)\n",
    "    lon = (-123.7845, -121.2920)\n",
    "elif ll :\n",
    "    lat = (49.7178, 50.8349)\n",
    "    lon = (-122.2683, -119.1079)\n",
    "# Petawawa is default selection\n",
    "else :\n",
    "    lat = (45.4499, 46.6034)\n",
    "    lon = (-78.4944, -76.7130)    \n",
    "\n",
    "    \n",
    "LC08_Bands = ['coastal_aerosol', 'blue', 'green', 'red', 'nir', 'swir1', 'swir2', 'panchromatic', 'cirrus', 'lwir1', 'lwir2', 'quality']\n",
    "\n",
    "\n",
    "query = { \n",
    "    'product' : p\n",
    "    , 'latitude' : lat\n",
    "    , 'longitude' : lon\n",
    "    , 'measurements' : [ LC08_Bands[r], LC08_Bands[g], LC08_Bands[b] ]\n",
    "    , 'resolution' : (-0.0025, 0.0025)\n",
    "}\n",
    "\n",
    "if (t1 != '') and (t2 != '') :\n",
    "    query['time'] = (t1, t2)"
   ]
  },
  {
   "cell_type": "code",
   "execution_count": null,
   "metadata": {},
   "outputs": [],
   "source": [
    "# Explore the datacube for datasets of interest\n",
    "dc.find_datasets(**query)"
   ]
  },
  {
   "cell_type": "code",
   "execution_count": null,
   "metadata": {},
   "outputs": [],
   "source": [
    "# Query the datacube and load dataset to memory\n",
    "data = dc.load( **query)"
   ]
  },
  {
   "cell_type": "code",
   "execution_count": null,
   "metadata": {},
   "outputs": [],
   "source": [
    "fake_saturation = 400000\n",
    "\n",
    "# Sets all `nodata` values to ``nan``.\n",
    "data = mask_invalid_data(data)\n",
    "\n",
    "# Isolate the color dimension in an xarray.DataArray, use transpose to make color the last dimension\n",
    "rgb = (data.to_array(dim='color'))\n",
    "rgb = rgb.transpose(*(rgb.dims[1:]+rgb.dims[:1])) \n",
    "\n",
    "# Filter out pixels where any band is 'saturated'\n",
    "rgb = rgb.where((rgb <= fake_saturation).all(dim='color'))\n",
    "\n",
    "# Scale to [0, 1] range for imshow\n",
    "rgb /= fake_saturation  "
   ]
  },
  {
   "cell_type": "code",
   "execution_count": null,
   "metadata": {
    "scrolled": false
   },
   "outputs": [],
   "source": [
    "rgb.plot.imshow( x = data.crs.dimensions[1]\n",
    "                , y = data.crs.dimensions[0]\n",
    "                , col = 'time'\n",
    "                , col_wrap = 1\n",
    "                , size = 10\n",
    "                , add_colorbar = False\n",
    "               )"
   ]
  },
  {
   "cell_type": "code",
   "execution_count": null,
   "metadata": {},
   "outputs": [],
   "source": []
  },
  {
   "cell_type": "code",
   "execution_count": null,
   "metadata": {},
   "outputs": [],
   "source": []
  }
 ],
 "metadata": {
  "kernelspec": {
   "display_name": "Python 3",
   "language": "python",
   "name": "python3"
  },
  "language_info": {
   "codemirror_mode": {
    "name": "ipython",
    "version": 3
   },
   "file_extension": ".py",
   "mimetype": "text/x-python",
   "name": "python",
   "nbconvert_exporter": "python",
   "pygments_lexer": "ipython3",
   "version": "3.6.5"
  }
 },
 "nbformat": 4,
 "nbformat_minor": 2
}
