{
 "cells": [
  {
   "cell_type": "code",
   "execution_count": null,
   "metadata": {},
   "outputs": [],
   "source": [
    "# This Notebook loads a dataset from memory, calculates EVI on the result set using a cloud mask, and plots the results.\n",
    "# EVI is an Enhanced Vegetation Index, designed to enhance the vegetation signal with improved sensitivity in high biomass regions\n",
    "# EVI = g *( (nir - red) / (nir + c1 * red - c2 * blue + l) )\n",
    "# Where l = canopy background adjustment\n",
    "#       c1, c2 = coefficients of the aerosol resistance term\n",
    "#       g = gain factor"
   ]
  },
  {
   "cell_type": "code",
   "execution_count": null,
   "metadata": {},
   "outputs": [],
   "source": [
    "import datacube\n",
    "from datacube.storage import masking\n",
    "\n",
    "dc = datacube.Datacube()"
   ]
  },
  {
   "cell_type": "code",
   "execution_count": null,
   "metadata": {},
   "outputs": [],
   "source": [
    "# Declare some 'constants' for the program\n",
    "p = 'LE07_scene'\n",
    "res = (0.0025, -0.0025) \n",
    "m = ['red', 'nir', 'quality']\n",
    "\n",
    "# Formula constants defined in header\n",
    "l = 1\n",
    "c1 = 6\n",
    "c2 = 7.5\n",
    "g = 2.5"
   ]
  },
  {
   "cell_type": "code",
   "execution_count": null,
   "metadata": {},
   "outputs": [],
   "source": [
    "two_bands = dc.load(product = p\n",
    "                    , measurements = m\n",
    "                    #, time= (start, end)\n",
    "                    , resolution = res\n",
    "                   )"
   ]
  },
  {
   "cell_type": "code",
   "execution_count": null,
   "metadata": {},
   "outputs": [],
   "source": [
    "# Isolate all valid data in the the two bands of interest\n",
    "red = two_bands.red.where(two_bands.red != two_bands.red.attrs['nodata'])\n",
    "nir = two_bands.nir.where(two_bands.nir != two_bands.nir.attrs['nodata'])\n",
    "\n",
    "# Plot the bands for verification\n",
    "red.plot(col='time', col_wrap = 2, size = 5)\n",
    "nir.plot(col='time', col_wrap = 2, size = 5)"
   ]
  },
  {
   "cell_type": "code",
   "execution_count": null,
   "metadata": {},
   "outputs": [],
   "source": [
    "# Prepare the pixel quality band as a cloud mask\n",
    "cloud_free = masking.make_mask(two_bands, cloud=False).quality"
   ]
  },
  {
   "cell_type": "code",
   "execution_count": null,
   "metadata": {},
   "outputs": [],
   "source": [
    "# Calculate and plot the EVI\n",
    "EVI = (g * ( (nir - red) / (nir + c1 * red - c2 * blue + l) ) ).where(cloud_free)\n",
    "EVI.plot(col='time', col_wrap = 2, size = 5)"
   ]
  },
  {
   "cell_type": "code",
   "execution_count": null,
   "metadata": {},
   "outputs": [],
   "source": []
  }
 ],
 "metadata": {
  "kernelspec": {
   "display_name": "Python 3",
   "language": "python",
   "name": "python3"
  },
  "language_info": {
   "codemirror_mode": {
    "name": "ipython",
    "version": 3
   },
   "file_extension": ".py",
   "mimetype": "text/x-python",
   "name": "python",
   "nbconvert_exporter": "python",
   "pygments_lexer": "ipython3",
   "version": "3.6.5"
  }
 },
 "nbformat": 4,
 "nbformat_minor": 2
}
