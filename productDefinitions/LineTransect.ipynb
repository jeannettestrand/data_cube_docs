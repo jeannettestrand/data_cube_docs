{
 "cells": [
  {
   "cell_type": "code",
   "execution_count": null,
   "metadata": {},
   "outputs": [],
   "source": [
    "# Can datacube index a shape file? Line Transect"
   ]
  },
  {
   "cell_type": "code",
   "execution_count": null,
   "metadata": {},
   "outputs": [],
   "source": [
    "import fiona\n",
    "import numpy\n",
    "import xarray\n",
    "\n",
    "import datacube\n",
    "from datacube.utils import geometry\n",
    "\n",
    "\n",
    "def transect(data, line, resolution, method='nearest', tolerance=None):\n",
    "    \"\"\"\n",
    "    Extract line transect from data along geom\n",
    "\n",
    "    :param xarray.Dataset data: data loaded via `Datacube.load`\n",
    "    :param datacube.utils.Geometry line: line along which to extract the transect\n",
    "    :param float resolution: interval used to extract points along the line (in data CRS units)\n",
    "    :param str method: see xarray.Dataset.sel_points\n",
    "    :param float tolerance: see xarray.Dataset.sel_points\n",
    "    \"\"\"\n",
    "    assert line.type == 'LineString'\n",
    "    line = line.to_crs(data.crs)\n",
    "    dist = numpy.arange(0, line.length, resolution)\n",
    "    points = [line.interpolate(d).coords[0] for d in dist]\n",
    "    indexers = {\n",
    "        data.crs.dimensions[0]: [p[1] for p in points],\n",
    "        data.crs.dimensions[1]: [p[0] for p in points]\n",
    "    }\n",
    "    return data.sel_points(xarray.DataArray(dist, name='distance', dims=['distance']),\n",
    "                           method=method,\n",
    "                           tolerance=tolerance,\n",
    "                           **indexers)\n",
    "\n",
    "\n",
    "def main():\n",
    "    with fiona.open('line.shp') as shapes:\n",
    "        crs = geometry.CRS(shapes.crs_wkt)\n",
    "        first_geometry = next(shapes)['geometry']\n",
    "        line = geometry.Geometry(first_geometry, crs=crs)\n",
    "\n",
    "    query = {\n",
    "        'time': ('1990-01-01', '1991-01-01'),\n",
    "        'geopolygon': line\n",
    "    }\n",
    "\n",
    "    dc = datacube.Datacube(app='line-trans-recipe')\n",
    "    data = dc.load(product='ls5_nbar_albers', measurements=['red'], **query)\n",
    "\n",
    "    trans = transect(data, line, abs(data.affine.a))\n",
    "    trans.red.plot(x='distance', y='time')\n"
   ]
  }
 ],
 "metadata": {
  "kernelspec": {
   "display_name": "Python 3",
   "language": "python",
   "name": "python3"
  },
  "language_info": {
   "codemirror_mode": {
    "name": "ipython",
    "version": 3
   },
   "file_extension": ".py",
   "mimetype": "text/x-python",
   "name": "python",
   "nbconvert_exporter": "python",
   "pygments_lexer": "ipython3",
   "version": "3.6.5"
  }
 },
 "nbformat": 4,
 "nbformat_minor": 2
}
